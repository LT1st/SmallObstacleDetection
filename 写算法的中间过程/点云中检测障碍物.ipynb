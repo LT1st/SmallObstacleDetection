{
 "cells": [
  {
   "cell_type": "code",
   "execution_count": 3,
   "id": "3920e1b7",
   "metadata": {},
   "outputs": [],
   "source": [
    "import os\n",
    "import sys\n",
    "sys.path.append('/home/ash/deeplab/')\n",
    "import numpy as np\n",
    "from PIL import Image\n",
    "from torch.utils import data\n",
    "import torch\n",
    "from torchvision import transforms\n",
    "%matplotlib inline\n",
    "from matplotlib import pyplot as plt\n",
    "from PIL import Image\n",
    "import cv2\n",
    "from PIL import ImageFilter\n",
    "from scipy.ndimage.filters import gaussian_filter"
   ]
  },
  {
   "cell_type": "markdown",
   "id": "f49be9d7",
   "metadata": {
    "scrolled": false
   },
   "source": [
    "! conda install open3d"
   ]
  },
  {
   "cell_type": "code",
   "execution_count": 2,
   "id": "4c5c8561",
   "metadata": {},
   "outputs": [],
   "source": [
    "odometry = r'F:\\Small_Obstacle_Dataset\\train\\file_2\\odometry\\0000000007.npy'\n",
    "velodyne = r'F:\\Small_Obstacle_Dataset\\train\\file_2\\velodyne\\0000000007.npy'"
   ]
  },
  {
   "cell_type": "code",
   "execution_count": null,
   "id": "2f5f2752",
   "metadata": {},
   "outputs": [],
   "source": []
  }
 ],
 "metadata": {
  "kernelspec": {
   "display_name": "t",
   "language": "python",
   "name": "t"
  },
  "language_info": {
   "codemirror_mode": {
    "name": "ipython",
    "version": 3
   },
   "file_extension": ".py",
   "mimetype": "text/x-python",
   "name": "python",
   "nbconvert_exporter": "python",
   "pygments_lexer": "ipython3",
   "version": "3.8.5"
  }
 },
 "nbformat": 4,
 "nbformat_minor": 5
}
